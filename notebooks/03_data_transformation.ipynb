{
 "cells": [
  {
   "cell_type": "code",
   "execution_count": 1,
   "metadata": {},
   "outputs": [],
   "source": [
    "import os"
   ]
  },
  {
   "cell_type": "code",
   "execution_count": null,
   "metadata": {},
   "outputs": [],
   "source": [
    "%pwd"
   ]
  },
  {
   "cell_type": "code",
   "execution_count": 3,
   "metadata": {},
   "outputs": [],
   "source": [
    "os.chdir(\"../\")"
   ]
  },
  {
   "cell_type": "code",
   "execution_count": null,
   "metadata": {},
   "outputs": [],
   "source": [
    "%pwd"
   ]
  },
  {
   "cell_type": "markdown",
   "metadata": {},
   "source": [
    "----------------------------------- entity ------------------------------------------"
   ]
  },
  {
   "cell_type": "code",
   "execution_count": 5,
   "metadata": {},
   "outputs": [],
   "source": [
    "from dataclasses import dataclass\n",
    "from pathlib import Path\n",
    "\n",
    "@dataclass(frozen=True)\n",
    "class DataTransformationConfig:\n",
    "    root_dir: Path\n",
    "    data_path: Path"
   ]
  },
  {
   "cell_type": "markdown",
   "metadata": {},
   "source": [
    "----------------------------------- configuration manager ------------------------------------------"
   ]
  },
  {
   "cell_type": "markdown",
   "metadata": {},
   "source": [
    "src/mlProject/config/configuration.py"
   ]
  },
  {
   "cell_type": "code",
   "execution_count": 6,
   "metadata": {},
   "outputs": [],
   "source": [
    "from mlProject.constants import *\n",
    "from mlProject.utils.common import read_yaml, create_directories"
   ]
  },
  {
   "cell_type": "code",
   "execution_count": 7,
   "metadata": {},
   "outputs": [],
   "source": [
    "class ConfigurationManager:\n",
    "    # Definir el método constructor que recibe las rutas de los archivos de configuración, parámetros y esquema\n",
    "    def __init__(\n",
    "        self,\n",
    "        config_filepath = CONFIG_FILE_PATH,\n",
    "        params_filepath = PARAMS_FILE_PATH,\n",
    "        schema_filepath = SCHEMA_FILE_PATH):\n",
    "\n",
    "        # Leer los archivos YAML y asignarlos a los atributos de la instancia\n",
    "        self.config = read_yaml(config_filepath)\n",
    "        self.params = read_yaml(params_filepath)\n",
    "        self.schema = read_yaml(schema_filepath)\n",
    "        # Crear el directorio raíz para los artefactos del proyecto\n",
    "        create_directories([self.config.artifacts_root])\n",
    "\n",
    "\n",
    "    \n",
    "    def get_data_transformation_config(self) -> DataTransformationConfig:\n",
    "        config = self.config.data_transformation\n",
    "\n",
    "        create_directories([config.root_dir])\n",
    "\n",
    "        data_transformation_config = DataTransformationConfig(\n",
    "            root_dir=config.root_dir,\n",
    "            data_path=config.data_path,\n",
    "        )\n",
    "\n",
    "        return data_transformation_config"
   ]
  },
  {
   "cell_type": "markdown",
   "metadata": {},
   "source": [
    "----------------------------------- components ------------------------------------------"
   ]
  },
  {
   "cell_type": "markdown",
   "metadata": {},
   "source": [
    "* ----------------------------------- data_transformation.py ------------------------------------------"
   ]
  },
  {
   "cell_type": "code",
   "execution_count": 12,
   "metadata": {},
   "outputs": [],
   "source": [
    "import os\n",
    "import sys\n",
    "from mlProject import logger\n",
    "import numpy as np \n",
    "import pandas as pd\n",
    "from sklearn.model_selection import train_test_split\n",
    "import dill\n",
    "import pickle\n"
   ]
  },
  {
   "cell_type": "code",
   "execution_count": 15,
   "metadata": {},
   "outputs": [],
   "source": [
    "\n",
    "from sklearn.compose import ColumnTransformer\n",
    "from sklearn.impute import SimpleImputer\n",
    "from sklearn.pipeline import Pipeline\n",
    "from sklearn.preprocessing import OneHotEncoder, StandardScaler\n"
   ]
  },
  {
   "cell_type": "code",
   "execution_count": 103,
   "metadata": {},
   "outputs": [],
   "source": [
    "class DataTransformation:\n",
    "    def __init__(self, config: DataTransformationConfig):\n",
    "        self.config = config\n",
    "\n",
    "\n",
    "    def get_data_transformer_object(self, numerical_columns, categorical_columns):\n",
    "        '''\n",
    "            This function is responsible for data transformation\n",
    "        '''\n",
    "        try:\n",
    "            # Define Pipeline\n",
    "            # for numerical columns\n",
    "            num_pipeline = Pipeline(\n",
    "                steps = [\n",
    "                    (\"imputer\", SimpleImputer(strategy=\"median\")),\n",
    "                    (\"scaler\", StandardScaler())\n",
    "                ]\n",
    "            )\n",
    "            # for categorical columns\n",
    "            cat_pipeline = Pipeline(\n",
    "                steps = [\n",
    "                    (\"imputer\", SimpleImputer(strategy=\"most_frequent\")),\n",
    "                    (\"one_hot_encoder\", OneHotEncoder(drop=\"if_binary\")),\n",
    "                    (\"scaler\", StandardScaler(with_mean=False))\n",
    "                ]\n",
    "            )\n",
    "\n",
    "            # logging info\n",
    "            logger.info(f\"Numerical columns: {numerical_columns}\")\n",
    "            logger.info(f\"Categorical columns: {categorical_columns}\")\n",
    "            \n",
    "            # Combination of pipelines\n",
    "            preprocessor=ColumnTransformer(\n",
    "                [\n",
    "                    (\"num_pipeline\",num_pipeline,numerical_columns),\n",
    "                    (\"cat_pipelines\",cat_pipeline,categorical_columns)\n",
    "                ]\n",
    "            )\n",
    "\n",
    "            \n",
    "\n",
    "            return preprocessor\n",
    "\n",
    "        except Exception as e:\n",
    "            raise e\n",
    "\n",
    "\n",
    "    def initiate_data_transformation(self):\n",
    "        try:\n",
    "            data_df = pd.read_csv(self.config.data_path)\n",
    "            logger.info(\"Read dataset completed\")\n",
    "\n",
    "            # ----------------------------------------------------------------\n",
    "            # define categorical, numerical columns and target column\n",
    "            numerical_columns = [\"area\", \"bedrooms\",\"bathrooms\",\"stories\",\"parking\"]\n",
    "            categorical_columns = [\"mainroad\",\"guestroom\",\"basement\", \"hotwaterheating\",\"airconditioning\",\"prefarea\",\"furnishingstatus\"]\n",
    "            target_column_name = \"price\"\n",
    "\n",
    "            # ----------------------------------------------------------------\n",
    "            logger.info(\"Creating preprocessing object\")\n",
    "            preprocessing_obj = self.get_data_transformer_object(numerical_columns, categorical_columns)\n",
    "\n",
    "            # ----------------------------------------------------------------\n",
    "            # define variable X and y for training data\n",
    "            input_feature_df=data_df.drop(columns=[target_column_name],axis=1)\n",
    "            target_feature_df=data_df[target_column_name]\n",
    "\n",
    "            # ----------------------------------------------------------------\n",
    "            logger.info(f\"Applying preprocessing object on training and testing dataframe\")\n",
    "            input_feature_arr = preprocessing_obj.fit_transform(input_feature_df)\n",
    "\n",
    "            # ----------------------------------------------------------------\n",
    "\n",
    "            # concatenate preprocessed input features with target feature\n",
    "            data_arr = np.c_[input_feature_arr, np.array(target_feature_df)]\n",
    "            # define the column names as a list\n",
    "            column_names = list(preprocessing_obj.get_feature_names_out()) + [target_column_name]\n",
    "            # removing prefixes of columns names\n",
    "            column_names = [name.replace(\"cat_pipelines__\", \"\").replace(\"num_pipeline__\", \"\") for name in column_names]\n",
    "            # convert the array to a dataframe\n",
    "            data_df = pd.DataFrame(data_arr, columns=column_names)\n",
    "\n",
    "\n",
    "            # ----------------------------------------------------------------\n",
    "            # Split the data into training and test sets. (0.75, 0.25) split.\n",
    "            train, test = train_test_split(data_df)#data_arr)\n",
    "            logger.info(\"Splited data into training and test sets\")\n",
    "\n",
    "            logger.info(train.shape)\n",
    "            logger.info(test.shape)\n",
    "\n",
    "            # ----------------------------------------------------------------\n",
    "            logger.info(f\"saving the pre-processing data\")\n",
    "            train.to_csv(os.path.join(self.config.root_dir, \"train.csv\"),index = False)\n",
    "            test.to_csv(os.path.join(self.config.root_dir, \"test.csv\"),index = False)\n",
    "\n",
    "            \n",
    "            # ----------------------------------------------------------------\n",
    "            # save object\n",
    "            ruta = self.config.root_dir + '/preprocessing_obj.pkl'\n",
    "            with open(ruta, 'wb') as f:\n",
    "                pickle.dump(preprocessing_obj, f)\n",
    "                \n",
    "            logger.info(f\"Saved preprocessing object\")\n",
    "\n",
    "            # ----------------------------------------------------------------\n",
    "            return (\n",
    "                preprocessing_obj,)\n",
    "\n",
    "        except Exception as e:\n",
    "            raise e\n",
    "        "
   ]
  },
  {
   "cell_type": "markdown",
   "metadata": {},
   "source": [
    "----------------------------------- pipeline ------------------------------------------"
   ]
  },
  {
   "cell_type": "markdown",
   "metadata": {},
   "source": [
    "* ----------------------------------- stage_03_data_transformation_pipeline ------------------------------------------"
   ]
  },
  {
   "cell_type": "code",
   "execution_count": 104,
   "metadata": {},
   "outputs": [
    {
     "name": "stdout",
     "output_type": "stream",
     "text": [
      "[2023-08-19 16:33:36,693: INFO: common: yaml file: config\\config.yaml loaded successfully]\n",
      "[2023-08-19 16:33:36,701: INFO: common: yaml file: params.yaml loaded successfully]\n",
      "[2023-08-19 16:33:36,711: INFO: common: yaml file: schema.yaml loaded successfully]\n",
      "[2023-08-19 16:33:36,716: INFO: common: created directory at: artifacts]\n",
      "[2023-08-19 16:33:36,721: INFO: common: created directory at: artifacts/data_transformation]\n",
      "[2023-08-19 16:33:36,731: INFO: 3059530493: Read dataset completed]\n",
      "[2023-08-19 16:33:36,736: INFO: 3059530493: Creating preprocessing object]\n",
      "[2023-08-19 16:33:36,738: INFO: 3059530493: Numerical columns: ['area', 'bedrooms', 'bathrooms', 'stories', 'parking']]\n",
      "[2023-08-19 16:33:36,742: INFO: 3059530493: Categorical columns: ['mainroad', 'guestroom', 'basement', 'hotwaterheating', 'airconditioning', 'prefarea', 'furnishingstatus']]\n",
      "[2023-08-19 16:33:36,749: INFO: 3059530493: Applying preprocessing object on training and testing dataframe]\n",
      "[2023-08-19 16:33:36,802: INFO: 3059530493: Splited data into training and test sets]\n",
      "[2023-08-19 16:33:36,804: INFO: 3059530493: (408, 15)]\n",
      "[2023-08-19 16:33:36,806: INFO: 3059530493: (137, 15)]\n",
      "[2023-08-19 16:33:36,808: INFO: 3059530493: saving the pre-processing data]\n"
     ]
    },
    {
     "name": "stdout",
     "output_type": "stream",
     "text": [
      "[2023-08-19 16:33:36,863: INFO: 3059530493: Saved preprocessing object]\n"
     ]
    }
   ],
   "source": [
    "\"\"\"\n",
    "Realizar la transformacion de los datos\n",
    "\"\"\"\n",
    "try:\n",
    "    config = ConfigurationManager()\n",
    "    data_transformation_config = config.get_data_transformation_config()\n",
    "    data_transformation = DataTransformation(config=data_transformation_config)\n",
    "    pre_process_obj = data_transformation.initiate_data_transformation()\n",
    "except Exception as e:\n",
    "    raise e"
   ]
  },
  {
   "cell_type": "code",
   "execution_count": null,
   "metadata": {},
   "outputs": [],
   "source": []
  }
 ],
 "metadata": {
  "kernelspec": {
   "display_name": "mlproj",
   "language": "python",
   "name": "python3"
  },
  "language_info": {
   "codemirror_mode": {
    "name": "ipython",
    "version": 3
   },
   "file_extension": ".py",
   "mimetype": "text/x-python",
   "name": "python",
   "nbconvert_exporter": "python",
   "pygments_lexer": "ipython3",
   "version": "3.10.12"
  },
  "orig_nbformat": 4
 },
 "nbformat": 4,
 "nbformat_minor": 2
}
