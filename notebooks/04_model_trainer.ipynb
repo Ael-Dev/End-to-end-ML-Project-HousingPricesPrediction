{
 "cells": [
  {
   "cell_type": "code",
   "execution_count": 1,
   "metadata": {},
   "outputs": [],
   "source": [
    "import os"
   ]
  },
  {
   "cell_type": "code",
   "execution_count": 2,
   "metadata": {},
   "outputs": [
    {
     "data": {
      "text/plain": [
       "'c:\\\\Users\\\\Alex\\\\Desktop\\\\R-Py\\\\machine_learning\\\\10.Projects\\\\End-to-end-ML-Project-HousingPricesPrediction\\\\notebooks'"
      ]
     },
     "execution_count": 2,
     "metadata": {},
     "output_type": "execute_result"
    }
   ],
   "source": [
    "%pwd"
   ]
  },
  {
   "cell_type": "code",
   "execution_count": 3,
   "metadata": {},
   "outputs": [],
   "source": [
    "os.chdir(\"../\")"
   ]
  },
  {
   "cell_type": "code",
   "execution_count": 4,
   "metadata": {},
   "outputs": [
    {
     "data": {
      "text/plain": [
       "'c:\\\\Users\\\\Alex\\\\Desktop\\\\R-Py\\\\machine_learning\\\\10.Projects\\\\End-to-end-ML-Project-HousingPricesPrediction'"
      ]
     },
     "execution_count": 4,
     "metadata": {},
     "output_type": "execute_result"
    }
   ],
   "source": [
    "%pwd"
   ]
  },
  {
   "cell_type": "markdown",
   "metadata": {},
   "source": [
    "----------------------------------- entity ------------------------------------------"
   ]
  },
  {
   "cell_type": "code",
   "execution_count": 16,
   "metadata": {},
   "outputs": [],
   "source": [
    "from dataclasses import dataclass\n",
    "from pathlib import Path\n",
    "\n",
    "# Clase para definir la configuración para entrenar un modelo\n",
    "# y los objetos de la clase sean inmutables, es decir, que \n",
    "# no se puedan modificar después de ser creados.\n",
    "@dataclass(frozen=True)\n",
    "class ModelTrainerConfig:\n",
    "    root_dir: Path\n",
    "    train_data_path: Path\n",
    "    test_data_path: Path\n",
    "    model_name: str\n",
    "    alpha: float\n",
    "    l1_ratio: float\n",
    "    target_column: str"
   ]
  },
  {
   "cell_type": "markdown",
   "metadata": {},
   "source": [
    "----------------------------------- configuration manager ------------------------------------------"
   ]
  },
  {
   "cell_type": "code",
   "execution_count": 15,
   "metadata": {},
   "outputs": [],
   "source": [
    "from mlProject.constants import *\n",
    "from mlProject.utils.common import read_yaml, create_directories"
   ]
  },
  {
   "cell_type": "code",
   "execution_count": 17,
   "metadata": {},
   "outputs": [],
   "source": [
    "# Crear una clase para administrar las configuraciones del modelo a entrenar\n",
    "class ConfigurationManager:\n",
    "    def __init__(\n",
    "        self,\n",
    "        config_filepath = CONFIG_FILE_PATH,\n",
    "        params_filepath = PARAMS_FILE_PATH,\n",
    "        schema_filepath = SCHEMA_FILE_PATH):\n",
    "\n",
    "        self.config = read_yaml(config_filepath)\n",
    "        self.params = read_yaml(params_filepath)\n",
    "        self.schema = read_yaml(schema_filepath)\n",
    "    \n",
    "        create_directories([self.config.artifacts_root])\n",
    "\n",
    "\n",
    "    def get_model_trainer_config(self) -> ModelTrainerConfig:\n",
    "        config = self.config.model_trainer\n",
    "        params = self.params.ElasticNet\n",
    "        schema =  self.schema.TARGET_COLUMN\n",
    "\n",
    "        create_directories([config.root_dir])\n",
    "\n",
    "        model_trainer_config = ModelTrainerConfig(\n",
    "            root_dir=config.root_dir,\n",
    "            train_data_path = config.train_data_path,\n",
    "            test_data_path = config.test_data_path,\n",
    "            model_name = config.model_name,\n",
    "            alpha = params.alpha,\n",
    "            l1_ratio = params.l1_ratio,\n",
    "            target_column = schema.name\n",
    "            \n",
    "        )\n",
    "\n",
    "        return model_trainer_config"
   ]
  },
  {
   "cell_type": "markdown",
   "metadata": {},
   "source": [
    "----------------------------------- components ------------------------------------------"
   ]
  },
  {
   "cell_type": "markdown",
   "metadata": {},
   "source": [
    "* ----------------------------------- model_trainer.py ------------------------------------------"
   ]
  },
  {
   "cell_type": "code",
   "execution_count": 18,
   "metadata": {},
   "outputs": [],
   "source": [
    "import os\n",
    "import sys\n",
    "from dataclasses import dataclass\n",
    "\n",
    "import pandas as pd\n",
    "from mlProject import logger\n",
    "import joblib\n",
    "\n",
    "from catboost import CatBoostRegressor\n",
    "from sklearn.ensemble import (\n",
    "    AdaBoostRegressor,\n",
    "    GradientBoostingRegressor,\n",
    "    RandomForestRegressor,\n",
    ")\n",
    "from sklearn.linear_model import LinearRegression\n",
    "from sklearn.metrics import r2_score\n",
    "from sklearn.neighbors import KNeighborsRegressor\n",
    "from sklearn.tree import DecisionTreeRegressor\n",
    "from xgboost import XGBRegressor\n",
    "\n",
    "from sklearn.model_selection import GridSearchCV\n",
    "\n"
   ]
  },
  {
   "cell_type": "code",
   "execution_count": 22,
   "metadata": {},
   "outputs": [],
   "source": [
    "# Crear una clase para entrenar el modelo\n",
    "class ModelTrainer:\n",
    "    def __init__(self, config: ModelTrainerConfig):\n",
    "        self.config = config\n",
    "\n",
    "    def evaluate_models(self, X_train, y_train, X_test, y_test, models, param):\n",
    "        try:\n",
    "            report = {}\n",
    "\n",
    "            for i in range(len(list(models))):\n",
    "                model = list(models.values())[i] # Retrieve the model\n",
    "                # -------------------------------------------------------\n",
    "                # hyperparameter params\n",
    "                para=param[list(models.keys())[i]]\n",
    "                gs = GridSearchCV(model,para,cv=3)\n",
    "                gs.fit(X_train, y_train) # Fit the model\n",
    "\n",
    "                # Retrieve the best params\n",
    "                model.set_params(**gs.best_params_)\n",
    "                model.fit(X_train,y_train) # fit with the best params\n",
    "                # -------------------------------------------------------\n",
    "                # Get the predictions\n",
    "                y_train_pred = model.predict(X_train) # train\n",
    "                y_test_pred = model.predict(X_test) # test\n",
    "                # Get the scores\n",
    "                train_model_score = r2_score(y_train, y_train_pred)\n",
    "                test_model_score = r2_score(y_test, y_test_pred)\n",
    "                # Make the report\n",
    "                report[list(models.keys())[i]] = test_model_score\n",
    "            \n",
    "            return report\n",
    "\n",
    "        except Exception as e:\n",
    "            raise e\n",
    "    \n",
    "    def train(self):\n",
    "        # Cargar el dataset\n",
    "        train_data = pd.read_csv(self.config.train_data_path)\n",
    "        test_data = pd.read_csv(self.config.test_data_path)\n",
    "        logger.info(\"Read dataset completed\")\n",
    "\n",
    "        # establer la variable \"X\" y \"y\" tanto en el dataset de entrenamient y test\n",
    "        train_x = train_data.drop([self.config.target_column], axis=1)\n",
    "        train_y = train_data[[self.config.target_column]]\n",
    "\n",
    "        test_x = test_data.drop([self.config.target_column], axis=1)\n",
    "        test_y = test_data[[self.config.target_column]]\n",
    "\n",
    "        # Split the dataset into train and test\n",
    "        #logging.info(\"Split trining and test input data\")\n",
    "        X_train,y_train,X_test,y_test=(\n",
    "            train_x.iloc[:,:-1],\n",
    "            train_y.iloc[:,-1],\n",
    "            test_x.iloc[:,:-1],\n",
    "            test_y.iloc[:,-1]\n",
    "        )\n",
    "        logger.info(\"Splitted dataset completed\")\n",
    "\n",
    "        # Initialize the models\n",
    "        models = {\n",
    "            \"Random Forest\": RandomForestRegressor(),\n",
    "            \"Decision Tree\": DecisionTreeRegressor(),\n",
    "            \"Gradient Boosting\": GradientBoostingRegressor(),\n",
    "            \"Linear Regression\": LinearRegression(),\n",
    "            \"XGBRegressor\": XGBRegressor(),\n",
    "            \"CatBoosting Regressor\": CatBoostRegressor(verbose=False),\n",
    "            \"AdaBoost Regressor\": AdaBoostRegressor(),\n",
    "        }\n",
    "\n",
    "        # Hyperparameter Tunning\n",
    "        params={\n",
    "            \"Decision Tree\": {\n",
    "                'criterion':['squared_error', 'friedman_mse', 'absolute_error', 'poisson'],\n",
    "                # 'splitter':['best','random'],\n",
    "                # 'max_features':['sqrt','log2'],\n",
    "            },\n",
    "            \"Random Forest\":{\n",
    "                # 'criterion':['squared_error', 'friedman_mse', 'absolute_error', 'poisson'],\n",
    "                \n",
    "                # 'max_features':['sqrt','log2',None],\n",
    "                'n_estimators': [8,16,32,64,128,256]\n",
    "            },\n",
    "            \"Gradient Boosting\":{\n",
    "                # 'loss':['squared_error', 'huber', 'absolute_error', 'quantile'],\n",
    "                'learning_rate':[.1,.01,.05,.001],\n",
    "                'subsample':[0.6,0.7,0.75,0.8,0.85,0.9],\n",
    "                # 'criterion':['squared_error', 'friedman_mse'],\n",
    "                # 'max_features':['auto','sqrt','log2'],\n",
    "                'n_estimators': [8,16,32,64,128,256]\n",
    "            },\n",
    "            \"Linear Regression\":{},\n",
    "            \"XGBRegressor\":{\n",
    "                'learning_rate':[.1,.01,.05,.001],\n",
    "                'n_estimators': [8,16,32,64,128,256]\n",
    "            },\n",
    "            \"CatBoosting Regressor\":{\n",
    "                'depth': [6,8,10],\n",
    "                'learning_rate': [0.01, 0.05, 0.1],\n",
    "                'iterations': [30, 50, 100]\n",
    "            },\n",
    "            \"AdaBoost Regressor\":{\n",
    "                'learning_rate':[.1,.01,0.5,.001],\n",
    "                # 'loss':['linear','square','exponential'],\n",
    "                'n_estimators': [8,16,32,64,128,256]\n",
    "            }   \n",
    "        }\n",
    "\n",
    "\n",
    "        # Evaluate the models\n",
    "        model_report:dict=self.evaluate_models(X_train=X_train,y_train=y_train,X_test=X_test,y_test=y_test,\n",
    "                                            models=models, param=params)\n",
    "        logger.info(\"models trained\")\n",
    "\n",
    "\n",
    "        # Get the best model score from dictionary\n",
    "        best_model_score = max(sorted(model_report.values()))\n",
    "        # Get best model name from dictionary\n",
    "        index_best_model = list(model_report.values()).index(best_model_score)\n",
    "        best_model_name = list(model_report.keys())[index_best_model]\n",
    "        # Get the best model\n",
    "        best_model = models[best_model_name]\n",
    "        \n",
    "\n",
    "        # limit the model score\n",
    "        threshold = 0.6 # limit\n",
    "        if best_model_score < threshold:\n",
    "            print(\"No best model found!\")\n",
    "        logger.info(\"best model obtained\")\n",
    "        #logging.info(f\"Best found model on both training and testing dataset {best_model_name}\")\n",
    "        \n",
    "        # save best model\n",
    "        logger.info(\"saving the best model\")\n",
    "        # Guardar el modelo entrenado en la ruta establecida(dentro de artifacts)\n",
    "        joblib.dump(best_model, os.path.join(self.config.root_dir, self.config.model_name))\n",
    "\n",
    "        predicted = best_model.predict(X_test)\n",
    "        # evaluate\n",
    "        r2_square = r2_score(y_test, predicted)\n",
    "        print(r2_square)"
   ]
  },
  {
   "cell_type": "markdown",
   "metadata": {},
   "source": [
    "----------------------------------- pipeline ------------------------------------------"
   ]
  },
  {
   "cell_type": "markdown",
   "metadata": {},
   "source": [
    "* ----------------------------------- stage_04_model_trainer_pipeline ------------------------------------------"
   ]
  },
  {
   "cell_type": "code",
   "execution_count": 23,
   "metadata": {},
   "outputs": [
    {
     "name": "stdout",
     "output_type": "stream",
     "text": [
      "[2023-08-19 19:53:53,148: INFO: common: yaml file: config\\config.yaml loaded successfully]\n",
      "[2023-08-19 19:53:53,157: INFO: common: yaml file: params.yaml loaded successfully]\n",
      "[2023-08-19 19:53:53,171: INFO: common: yaml file: schema.yaml loaded successfully]\n",
      "[2023-08-19 19:53:53,177: INFO: common: created directory at: artifacts]\n",
      "[2023-08-19 19:53:53,182: INFO: common: created directory at: artifacts/model_trainer]\n",
      "[2023-08-19 19:53:53,203: INFO: 2097228566: Read dataset completed]\n",
      "[2023-08-19 19:53:53,213: INFO: 2097228566: Splitted dataset completed]\n",
      "[2023-08-19 19:57:08,630: INFO: 2097228566: models trained]\n",
      "[2023-08-19 19:57:08,632: INFO: 2097228566: best model obtained]\n",
      "[2023-08-19 19:57:08,635: INFO: 2097228566: saving the best model]\n",
      "0.6562243776040881\n"
     ]
    }
   ],
   "source": [
    "try:\n",
    "    config = ConfigurationManager()\n",
    "    model_trainer_config = config.get_model_trainer_config()\n",
    "    model_trainer_config = ModelTrainer(config=model_trainer_config)\n",
    "    model_trainer_config.train()\n",
    "except Exception as e:\n",
    "    raise e"
   ]
  }
 ],
 "metadata": {
  "kernelspec": {
   "display_name": "mlproj",
   "language": "python",
   "name": "python3"
  },
  "language_info": {
   "codemirror_mode": {
    "name": "ipython",
    "version": 3
   },
   "file_extension": ".py",
   "mimetype": "text/x-python",
   "name": "python",
   "nbconvert_exporter": "python",
   "pygments_lexer": "ipython3",
   "version": "3.10.12"
  },
  "orig_nbformat": 4
 },
 "nbformat": 4,
 "nbformat_minor": 2
}
